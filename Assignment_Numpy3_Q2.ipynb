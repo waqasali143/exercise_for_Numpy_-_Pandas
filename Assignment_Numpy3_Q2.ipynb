{
 "cells": [
  {
   "cell_type": "markdown",
   "metadata": {},
   "source": [
    "                                                 Basic Numpy Exercises \n",
    "                                               Compiled by: Dr. Noman Islam"
   ]
  },
  {
   "cell_type": "markdown",
   "metadata": {},
   "source": [
    "#### Derivatives can be calculated numerically with the finite difference method as:\n",
    "f'(x)=f(x+del(x)) - f(x-del(x))/2*del(x)"
   ]
  },
  {
   "cell_type": "markdown",
   "metadata": {},
   "source": [
    "Construct 1D Numpy array containing the values of x in the interval [0,π/2] with spacing Δx=0.1. Evaluate numerically\n",
    "the derivative of sin in this interval (excluding the end points) using the above formula. Try to avoid for loops.\n",
    "Compare the result to function cos in the same interval"
   ]
  },
  {
   "cell_type": "code",
   "execution_count": 1,
   "metadata": {},
   "outputs": [],
   "source": [
    "import numpy as np"
   ]
  },
  {
   "cell_type": "code",
   "execution_count": 4,
   "metadata": {},
   "outputs": [
    {
     "data": {
      "text/plain": [
       "array([0. , 0.1, 0.2, 0.3, 0.4, 0.5, 0.6, 0.7, 0.8, 0.9, 1. , 1.1, 1.2,\n",
       "       1.3, 1.4, 1.5])"
      ]
     },
     "execution_count": 4,
     "metadata": {},
     "output_type": "execute_result"
    }
   ],
   "source": [
    "x = np.arange(0,3.14/2, 0.1)\n",
    "x"
   ]
  },
  {
   "cell_type": "code",
   "execution_count": 5,
   "metadata": {},
   "outputs": [
    {
     "data": {
      "text/plain": [
       "array([0.        , 0.09983342, 0.19866933, 0.29552021, 0.38941834,\n",
       "       0.47942554, 0.56464247, 0.64421769, 0.71735609, 0.78332691,\n",
       "       0.84147098, 0.89120736, 0.93203909, 0.96355819, 0.98544973,\n",
       "       0.99749499])"
      ]
     },
     "execution_count": 5,
     "metadata": {},
     "output_type": "execute_result"
    }
   ],
   "source": [
    "y = np.sin(x)\n",
    "y"
   ]
  },
  {
   "cell_type": "markdown",
   "metadata": {},
   "source": [
    "# -----------------------------------------------------------------------------------"
   ]
  },
  {
   "cell_type": "markdown",
   "metadata": {},
   "source": [
    "first of all we convert the statement to coding style.this is a statement\n",
    "\n",
    "f'(x) = f(x + delta_x) - f(x - delta_x) / 2 * delta_x   \n",
    "Here\n",
    "delta_x = 0.1   \n",
    "\n",
    "(f , x , delta_x) \n",
    "Here\n",
    "f = sin\n",
    "\n",
    "This statment we use in code.\n",
    "sin'(x) = sin(x + 0.1) - sin(x - 0.1) / (2 * 0.1)\n",
    "\n"
   ]
  },
  {
   "cell_type": "markdown",
   "metadata": {},
   "source": [
    "# ---------------------------------------------------------------------------------------------"
   ]
  },
  {
   "cell_type": "code",
   "execution_count": 7,
   "metadata": {},
   "outputs": [
    {
     "data": {
      "text/plain": [
       "array([0.99833417, 0.99334665, 0.97843395, 0.95374506, 0.91952666,\n",
       "       0.87612066, 0.82396074, 0.76356809, 0.69554611, 0.62057447,\n",
       "       0.53940225, 0.45284051, 0.36175413, 0.26705322, 0.16968401,\n",
       "       0.07061937])"
      ]
     },
     "execution_count": 7,
     "metadata": {},
     "output_type": "execute_result"
    }
   ],
   "source": [
    "delta_x = 0.1\n",
    "dy_dx = (np.sin(x + delta_x) - np.sin(x - delta_x)) / (2 * 0.1)\n",
    "dy_dx"
   ]
  },
  {
   "cell_type": "code",
   "execution_count": 8,
   "metadata": {},
   "outputs": [
    {
     "data": {
      "text/plain": [
       "array([1.        , 0.99500417, 0.98006658, 0.95533649, 0.92106099,\n",
       "       0.87758256, 0.82533561, 0.76484219, 0.69670671, 0.62160997,\n",
       "       0.54030231, 0.45359612, 0.36235775, 0.26749883, 0.16996714,\n",
       "       0.0707372 ])"
      ]
     },
     "execution_count": 8,
     "metadata": {},
     "output_type": "execute_result"
    }
   ],
   "source": [
    "cos_y = np.cos(x)\n",
    "cos_y"
   ]
  },
  {
   "cell_type": "markdown",
   "metadata": {},
   "source": [
    "# Second Method By Function"
   ]
  },
  {
   "cell_type": "code",
   "execution_count": 10,
   "metadata": {},
   "outputs": [],
   "source": [
    "def finite_difference(f, x, delta_x):\n",
    "    return (f(x + delta_x) - f(x - delta_x)) / (2 * delta_x)\n",
    "\n",
    "x = np.arange(0, np.pi/2, 0.1)\n",
    "y = np.sin(x)\n",
    "dy_dx = finite_difference(np.sin, x, 0.1)\n",
    "cos_y = np.cos(x)"
   ]
  },
  {
   "cell_type": "code",
   "execution_count": 11,
   "metadata": {},
   "outputs": [
    {
     "data": {
      "text/plain": [
       "array([0.99833417, 0.99334665, 0.97843395, 0.95374506, 0.91952666,\n",
       "       0.87612066, 0.82396074, 0.76356809, 0.69554611, 0.62057447,\n",
       "       0.53940225, 0.45284051, 0.36175413, 0.26705322, 0.16968401,\n",
       "       0.07061937])"
      ]
     },
     "execution_count": 11,
     "metadata": {},
     "output_type": "execute_result"
    }
   ],
   "source": [
    "dy_dx"
   ]
  },
  {
   "cell_type": "code",
   "execution_count": 12,
   "metadata": {},
   "outputs": [
    {
     "data": {
      "text/plain": [
       "array([1.        , 0.99500417, 0.98006658, 0.95533649, 0.92106099,\n",
       "       0.87758256, 0.82533561, 0.76484219, 0.69670671, 0.62160997,\n",
       "       0.54030231, 0.45359612, 0.36235775, 0.26749883, 0.16996714,\n",
       "       0.0707372 ])"
      ]
     },
     "execution_count": 12,
     "metadata": {},
     "output_type": "execute_result"
    }
   ],
   "source": [
    "cos_y"
   ]
  },
  {
   "cell_type": "code",
   "execution_count": null,
   "metadata": {},
   "outputs": [],
   "source": []
  }
 ],
 "metadata": {
  "kernelspec": {
   "display_name": "Python 3 (ipykernel)",
   "language": "python",
   "name": "python3"
  },
  "language_info": {
   "codemirror_mode": {
    "name": "ipython",
    "version": 3
   },
   "file_extension": ".py",
   "mimetype": "text/x-python",
   "name": "python",
   "nbconvert_exporter": "python",
   "pygments_lexer": "ipython3",
   "version": "3.9.12"
  }
 },
 "nbformat": 4,
 "nbformat_minor": 1
}
